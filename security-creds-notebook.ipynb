{
 "cells": [
  {
   "cell_type": "code",
   "execution_count": 9,
   "metadata": {},
   "outputs": [],
   "source": [
    "import requests, json\n",
    "import pandas as pd\n",
    "from datetime import datetime as dt, timedelta, date\n",
    "import time\n",
    "import pytz\n",
    "from base64 import b64encode, b64decode\n",
    "from trading_ig_config import config\n",
    "from Crypto.Cipher import PKCS1_v1_5\n",
    "from Crypto.PublicKey import RSA\n",
    "\n",
    "class Config:\n",
    "    def __init__(self, account_type):\n",
    "        if account_type == 'LIVE':\n",
    "            self.acc_type = 'LIVE'\n",
    "            self.endpoint = 'https://api.ig.com/gateway/deal'\n",
    "        else:\n",
    "            self.acc_type = 'DEMO'\n",
    "            self.endpoint = 'https://demo-api.ig.com/gateway/deal'\n",
    "            \n",
    "class IG:\n",
    "    def __init__(self, key, username, password, account, acc_type='DEMO'):\n",
    "        self.api_key = key\n",
    "        self.username = username\n",
    "        self.password = password\n",
    "        self.account_type = acc_type\n",
    "        self.account_num = ''\n",
    "        self.CST = ''\n",
    "        self.X_SECURITY_TOKEN = ''\n",
    "        self.lightstreamerEndpoint = ''\n",
    "        self.s = requests.Session()\n",
    "        self.config = Config(self.account_type)\n",
    "        self.ls_client = None\n",
    "        self.version = '1.0.6'\n",
    "        \n",
    "    def getVersion(self):\n",
    "        return self.version\n",
    "\n",
    "    def encrypted_password(self, key, timestamp, password):\n",
    "        rsakey = RSA.importKey(b64decode(key))\n",
    "        string = password + \"|\" + str(int(timestamp))\n",
    "        message = b64encode(string.encode())\n",
    "        return b64encode(PKCS1_v1_5.new(rsakey).encrypt(message)).decode()\n",
    "\n",
    "    def login(self):\n",
    "        response = self.s.get(self.config.endpoint+'/session/encryptionKey', headers={'X-IG-API-KEY': self.api_key, 'Content-Type': 'application/json; charset=UTF-8', 'Accept': 'application/json; charset=UTF-8'})\n",
    "        data = response.json()\n",
    "        encryption_key = data['encryptionKey']\n",
    "        timestamp = data['timeStamp']\n",
    "        encrypted_password = self.encrypted_password(encryption_key,timestamp,self.password)\n",
    "        response = self.s.post(self.config.endpoint+'/session', headers={'X-IG-API-KEY': self.api_key, 'Content-Type': 'application/json; charset=UTF-8', 'Accept': 'application/json; charset=UTF-8', 'VERSION': '2'}, data=json.dumps({\"identifier\":self.username, \"password\":encrypted_password,\"encryptedPassword\":True}))\n",
    "        self.CST = response.headers['CST']\n",
    "        print(self.CST)\n",
    "        self.X_SECURITY_TOKEN = response.headers['X-SECURITY-TOKEN']\n",
    "        print(self.X_SECURITY_TOKEN)\n",
    "    "
   ]
  },
  {
   "cell_type": "code",
   "execution_count": 10,
   "metadata": {},
   "outputs": [
    {
     "data": {
      "text/plain": [
       "'f0e2605109cbf6ee60fe13739cae92498965061502813699535eaa4ccc74b4CD01111'"
      ]
     },
     "execution_count": 10,
     "metadata": {},
     "output_type": "execute_result"
    }
   ],
   "source": [
    "ig=IG(config.api_key, config.username, config.password, config.acc_type)\n",
    "ig.login()\n"
   ]
  },
  {
   "cell_type": "code",
   "execution_count": null,
   "metadata": {},
   "outputs": [],
   "source": []
  }
 ],
 "metadata": {
  "kernelspec": {
   "display_name": "trading_bot",
   "language": "python",
   "name": "python3"
  },
  "language_info": {
   "codemirror_mode": {
    "name": "ipython",
    "version": 3
   },
   "file_extension": ".py",
   "mimetype": "text/x-python",
   "name": "python",
   "nbconvert_exporter": "python",
   "pygments_lexer": "ipython3",
   "version": "3.9.18"
  }
 },
 "nbformat": 4,
 "nbformat_minor": 2
}
